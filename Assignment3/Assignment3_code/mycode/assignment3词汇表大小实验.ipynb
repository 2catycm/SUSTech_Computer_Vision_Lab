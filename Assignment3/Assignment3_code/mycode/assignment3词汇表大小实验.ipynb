{
 "cells": [
  {
   "cell_type": "code",
   "execution_count": 1,
   "metadata": {},
   "outputs": [],
   "source": [
    "# Set up parameters, image paths and category list\n",
    "# %matplotlib notebook\n",
    "# %matplotlib widget \n",
    "%load_ext autoreload\n",
    "%autoreload 2\n",
    "\n",
    "import cv2\n",
    "import numpy as np\n",
    "import os.path as osp\n",
    "import pickle\n",
    "from random import shuffle\n",
    "import matplotlib.pyplot as plt\n",
    "from utils import *\n",
    "import student_code_12011404 as sc\n",
    "\n",
    "\n",
    "# This is the list of categories / directories to use. The categories are\n",
    "# somewhat sorted by similarity so that the confusion matrix looks more\n",
    "# structured (indoor and then urban and then rural).\n",
    "categories = ['Kitchen', 'Store', 'Bedroom', 'LivingRoom', 'Office', 'Industrial', 'Suburb',\n",
    "              'InsideCity', 'TallBuilding', 'Street', 'Highway', 'OpenCountry', 'Coast',\n",
    "              'Mountain', 'Forest'];\n",
    "# This list of shortened category names is used later for visualization\n",
    "abbr_categories = ['Kit', 'Sto', 'Bed', 'Liv', 'Off', 'Ind', 'Sub',\n",
    "                   'Cty', 'Bld', 'St', 'HW', 'OC', 'Cst',\n",
    "                   'Mnt', 'For'];\n",
    "\n",
    "# Number of training examples per category to use. Max is 100. For\n",
    "# simplicity, we assume this is the number of test cases per category, as\n",
    "# well.\n",
    "num_train_per_cat = 100\n",
    "\n",
    "# This function returns lists containing the file path for each train\n",
    "# and test image, as well as lists with the label of each train and\n",
    "# test image. By default all four of these lists will have 1500 elements\n",
    "# where each element is a string.\n",
    "data_path = osp.join('..', 'data')\n",
    "train_image_paths, test_image_paths, train_labels, test_labels = get_image_paths(data_path,\n",
    "                                                                                 categories,\n",
    "                                                                                 num_train_per_cat);"
   ]
  },
  {
   "cell_type": "code",
   "execution_count": 2,
   "metadata": {},
   "outputs": [
    {
     "name": "stdout",
     "output_type": "stream",
     "text": [
      "Using the BAG-OF-SIFT representation for images\n"
     ]
    },
    {
     "name": "stderr",
     "output_type": "stream",
     "text": [
      "100%|██████████| 1024/1024 [00:49<00:00, 20.65it/s]\n"
     ]
    }
   ],
   "source": [
    "print('Using the BAG-OF-SIFT representation for images')\n",
    "测试写的对不对 = train_image_paths[:1024]\n",
    "vocab_size = 200  # Larger values will work better (to a point) but be slower to compute\n",
    "vocab = sc.build_vocabulary_parrallel(测试写的对不对, vocab_size)\n",
    "# 10s 处理完sift特征\n",
    "# kmeans 很慢 1m28s\n",
    "\n",
    "# 普通parallel 可以 49s"
   ]
  },
  {
   "cell_type": "code",
   "execution_count": null,
   "metadata": {},
   "outputs": [],
   "source": [
    "# 200x200 的图片 ，sift一次9ms, \n",
    "# 1500张图片， 9ms * 1500 = 13.5s 。  很快\n",
    "# 30s"
   ]
  },
  {
   "cell_type": "code",
   "execution_count": 4,
   "metadata": {},
   "outputs": [
    {
     "name": "stderr",
     "output_type": "stream",
     "text": [
      "processing the 63th image. : : 64it [00:02, 25.39it/s]\n"
     ]
    }
   ],
   "source": [
    "测试写的对不对 = train_image_paths[:64]\n",
    "vocab_size = 200\n",
    "vocab = sc.build_vocabulary_no_parallel(测试写的对不对, vocab_size)\n",
    "# 42s sift 1024\n",
    "\n",
    "# 2s sift 64\n",
    "# 47s Kmeans vlf"
   ]
  },
  {
   "cell_type": "code",
   "execution_count": 3,
   "metadata": {},
   "outputs": [],
   "source": [
    "import joblib\n",
    "from joblib import memory\n",
    "memory = joblib.Memory('./tmp')"
   ]
  },
  {
   "cell_type": "code",
   "execution_count": null,
   "metadata": {},
   "outputs": [],
   "source": [
    "build = memory.cache(sc.build_vocabulary_parrallel)\n",
    "测试写的对不对 = train_image_paths[:64]\n",
    "build(测试写的对不对, 1).shape"
   ]
  },
  {
   "cell_type": "code",
   "execution_count": null,
   "metadata": {},
   "outputs": [],
   "source": [
    "build(测试写的对不对, 24).shape # 看来没问题"
   ]
  },
  {
   "cell_type": "code",
   "execution_count": null,
   "metadata": {},
   "outputs": [],
   "source": [
    "def evaluate(vacab_size=200):\n",
    "    print(f\"Building vocabulary with {vacab_size} words. \")\n",
    "    vocab_file = f'vocab-{vacab_size}.pkl'\n",
    "    train_feat_file = f'train_image_feats-{vacab_size}.pkl'\n",
    "    test_feat_file = f'test_image_feats-{vacab_size}.pkl'\n",
    "\n",
    "    if not osp.isfile(vocab_file):\n",
    "        vocab = sc.build_vocabulary_parrallel(train_image_paths, vocab_size)\n",
    "        with open(vocab_file, 'wb') as f:\n",
    "            pickle.dump(vocab, f)\n",
    "    else:\n",
    "        with open(vocab_file, \"rb\") as f:\n",
    "            vocab = pickle.load(f)\n",
    "    if not osp.isfile(train_feat_file):\n",
    "        train_image_feats_sift = sc.get_bags_of_sifts(train_image_paths, vocab_filename)\n",
    "        with open(train_feat_file, 'wb') as f:\n",
    "            pickle.dump(train_image_feats_sift, f)\n",
    "    else:\n",
    "        with open(vocab_file, \"rb\") as f:\n",
    "            vocab = pickle.load(f)\n",
    "    if not osp.isfile(test_feat_file):\n",
    "        test_image_feats_sift = sc.get_bags_of_sifts(test_image_paths, vocab_filename)\n",
    "        with open(test_feat_file, 'wb') as f:\n",
    "            pickle.dump(test_image_feats_sift, f)\n",
    "    else:\n",
    "        with open(vocab_file, \"rb\") as f:\n",
    "            vocab = pickle.load(f)"
   ]
  },
  {
   "cell_type": "code",
   "execution_count": null,
   "metadata": {},
   "outputs": [],
   "source": []
  }
 ],
 "metadata": {
  "kernelspec": {
   "display_name": "a3env",
   "language": "python",
   "name": "python3"
  },
  "language_info": {
   "codemirror_mode": {
    "name": "ipython",
    "version": 3
   },
   "file_extension": ".py",
   "mimetype": "text/x-python",
   "name": "python",
   "nbconvert_exporter": "python",
   "pygments_lexer": "ipython3",
   "version": "3.6.2"
  },
  "orig_nbformat": 4,
  "vscode": {
   "interpreter": {
    "hash": "3193c0413268bbb59f9d23a695be3cc9adb742d69b2610f1f53504f916cfbbd6"
   }
  }
 },
 "nbformat": 4,
 "nbformat_minor": 2
}
