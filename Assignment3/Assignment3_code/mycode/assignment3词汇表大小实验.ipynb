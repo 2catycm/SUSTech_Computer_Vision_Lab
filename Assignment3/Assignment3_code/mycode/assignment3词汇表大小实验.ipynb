{
 "cells": [
  {
   "cell_type": "code",
   "execution_count": 1,
   "metadata": {},
   "outputs": [],
   "source": [
    "# Set up parameters, image paths and category list\n",
    "# %matplotlib notebook\n",
    "# %matplotlib widget \n",
    "%load_ext autoreload\n",
    "%autoreload 2\n",
    "\n",
    "import cv2\n",
    "import numpy as np\n",
    "import os.path as osp\n",
    "import pickle\n",
    "from random import shuffle\n",
    "import matplotlib.pyplot as plt\n",
    "from utils import *\n",
    "import student_code_12011404 as sc\n",
    "\n",
    "\n",
    "# This is the list of categories / directories to use. The categories are\n",
    "# somewhat sorted by similarity so that the confusion matrix looks more\n",
    "# structured (indoor and then urban and then rural).\n",
    "categories = ['Kitchen', 'Store', 'Bedroom', 'LivingRoom', 'Office', 'Industrial', 'Suburb',\n",
    "              'InsideCity', 'TallBuilding', 'Street', 'Highway', 'OpenCountry', 'Coast',\n",
    "              'Mountain', 'Forest'];\n",
    "# This list of shortened category names is used later for visualization\n",
    "abbr_categories = ['Kit', 'Sto', 'Bed', 'Liv', 'Off', 'Ind', 'Sub',\n",
    "                   'Cty', 'Bld', 'St', 'HW', 'OC', 'Cst',\n",
    "                   'Mnt', 'For'];\n",
    "\n",
    "# Number of training examples per category to use. Max is 100. For\n",
    "# simplicity, we assume this is the number of test cases per category, as\n",
    "# well.\n",
    "num_train_per_cat = 100\n",
    "\n",
    "# This function returns lists containing the file path for each train\n",
    "# and test image, as well as lists with the label of each train and\n",
    "# test image. By default all four of these lists will have 1500 elements\n",
    "# where each element is a string.\n",
    "data_path = osp.join('..', 'data')\n",
    "train_image_paths, test_image_paths, train_labels, test_labels = get_image_paths(data_path,\n",
    "                                                                                 categories,\n",
    "                                                                                 num_train_per_cat);"
   ]
  },
  {
   "cell_type": "code",
   "execution_count": 2,
   "metadata": {},
   "outputs": [],
   "source": [
    "import joblib\n",
    "from joblib import memory\n",
    "memory = joblib.Memory('./tmp')"
   ]
  },
  {
   "cell_type": "code",
   "execution_count": 3,
   "metadata": {},
   "outputs": [
    {
     "name": "stdout",
     "output_type": "stream",
     "text": [
      "________________________________________________________________________________\n",
      "[Memory] Calling student_code_12011404.build_vocabulary_parrallel...\n",
      "build_vocabulary_parrallel([ '../data/train/Kitchen/image_0034.jpg',\n",
      "  '../data/train/Kitchen/image_0174.jpg',\n",
      "  '../data/train/Kitchen/image_0082.jpg',\n",
      "  '../data/train/Kitchen/image_0130.jpg',\n",
      "  '../data/train/Kitchen/image_0083.jpg',\n",
      "  '../data/train/Kitchen/image_0081.jpg',\n",
      "  '../data/train/Kitchen/image_0055.jpg',\n",
      "  '../data/train/Kitchen/image_0144.jpg',\n",
      "  '../data/train/Kitchen/image_0074.jpg',\n",
      "  '../data/train/Kitchen/image_0109.jpg',\n",
      "  '../data/train/Kitchen/image_0076.jpg',\n",
      "  '../data/train/Kitchen/image_0106.jpg',\n",
      "  '../data/train/Kitchen/image_0103.jpg',\n",
      "  '../data/train/Kitchen/image_0026.jpg',\n",
      "  '../data/train/Kitchen/image_0172.jpg',\n",
      "  '../data/train/Kitchen/image_0157.jpg',\n",
      "  '../data/train/Kitchen/ima..., \n",
      "1)\n"
     ]
    },
    {
     "name": "stderr",
     "output_type": "stream",
     "text": [
      "100%|██████████| 64/64 [00:02<00:00, 25.27it/s]\n"
     ]
    },
    {
     "name": "stdout",
     "output_type": "stream",
     "text": [
      "_______________________________________build_vocabulary_parrallel - 3.1s, 0.1min\n",
      "________________________________________________________________________________\n",
      "[Memory] Calling student_code_12011404.build_vocabulary_parrallel...\n",
      "build_vocabulary_parrallel([ '../data/train/Kitchen/image_0034.jpg',\n",
      "  '../data/train/Kitchen/image_0174.jpg',\n",
      "  '../data/train/Kitchen/image_0082.jpg',\n",
      "  '../data/train/Kitchen/image_0130.jpg',\n",
      "  '../data/train/Kitchen/image_0083.jpg',\n",
      "  '../data/train/Kitchen/image_0081.jpg',\n",
      "  '../data/train/Kitchen/image_0055.jpg',\n",
      "  '../data/train/Kitchen/image_0144.jpg',\n",
      "  '../data/train/Kitchen/image_0074.jpg',\n",
      "  '../data/train/Kitchen/image_0109.jpg',\n",
      "  '../data/train/Kitchen/image_0076.jpg',\n",
      "  '../data/train/Kitchen/image_0106.jpg',\n",
      "  '../data/train/Kitchen/image_0103.jpg',\n",
      "  '../data/train/Kitchen/image_0026.jpg',\n",
      "  '../data/train/Kitchen/image_0172.jpg',\n",
      "  '../data/train/Kitchen/image_0157.jpg',\n",
      "  '../data/train/Kitchen/ima..., \n",
      "24)\n"
     ]
    },
    {
     "name": "stderr",
     "output_type": "stream",
     "text": [
      "100%|██████████| 64/64 [00:02<00:00, 21.46it/s]"
     ]
    },
    {
     "name": "stdout",
     "output_type": "stream",
     "text": [
      "_______________________________________build_vocabulary_parrallel - 3.7s, 0.1min\n"
     ]
    },
    {
     "name": "stderr",
     "output_type": "stream",
     "text": [
      "\n"
     ]
    },
    {
     "data": {
      "text/plain": "(24, 128)"
     },
     "execution_count": 3,
     "metadata": {},
     "output_type": "execute_result"
    }
   ],
   "source": [
    "build = memory.cache(sc.build_vocabulary_parrallel)\n",
    "测试写的对不对 = train_image_paths[:64]\n",
    "build(测试写的对不对, 1).shape\n",
    "build(测试写的对不对, 24).shape # 看来没问题"
   ]
  },
  {
   "cell_type": "code",
   "execution_count": null,
   "metadata": {},
   "outputs": [],
   "source": [
    "images = train_image_paths+test_image_paths\n",
    "labels = train_labels+test_labels"
   ]
  },
  {
   "cell_type": "code",
   "execution_count": 4,
   "metadata": {},
   "outputs": [
    {
     "ename": "NameError",
     "evalue": "name 'images' is not defined",
     "output_type": "error",
     "traceback": [
      "\u001B[0;31m---------------------------------------------------------------------------\u001B[0m",
      "\u001B[0;31mNameError\u001B[0m                                 Traceback (most recent call last)",
      "\u001B[0;32m<ipython-input-4-ca95f8190e24>\u001B[0m in \u001B[0;36m<module>\u001B[0;34m\u001B[0m\n\u001B[1;32m      9\u001B[0m         \u001B[0;32mreturn\u001B[0m \u001B[0mpipeline\u001B[0m\u001B[0;34m.\u001B[0m\u001B[0mfit\u001B[0m\u001B[0;34m(\u001B[0m\u001B[0mX_train\u001B[0m\u001B[0;34m,\u001B[0m \u001B[0my_train\u001B[0m\u001B[0;34m)\u001B[0m\u001B[0;34m.\u001B[0m\u001B[0mscore\u001B[0m\u001B[0;34m(\u001B[0m\u001B[0mX_test\u001B[0m\u001B[0;34m,\u001B[0m \u001B[0my_test\u001B[0m\u001B[0;34m)\u001B[0m\u001B[0;34m\u001B[0m\u001B[0m\n\u001B[1;32m     10\u001B[0m \u001B[0;34m\u001B[0m\u001B[0m\n\u001B[0;32m---> 11\u001B[0;31m \u001B[0mevaluate\u001B[0m\u001B[0;34m(\u001B[0m\u001B[0msc\u001B[0m\u001B[0;34m.\u001B[0m\u001B[0mSiftClassifier\u001B[0m\u001B[0;34m(\u001B[0m\u001B[0;36m1\u001B[0m\u001B[0;34m,\u001B[0m \u001B[0;34m)\u001B[0m\u001B[0;34m,\u001B[0m \u001B[0mimages\u001B[0m\u001B[0;34m,\u001B[0m \u001B[0mlabels\u001B[0m\u001B[0;34m,\u001B[0m \u001B[0mcross\u001B[0m\u001B[0;34m=\u001B[0m\u001B[0;32mFalse\u001B[0m\u001B[0;34m)\u001B[0m\u001B[0;34m\u001B[0m\u001B[0m\n\u001B[0m",
      "\u001B[0;31mNameError\u001B[0m: name 'images' is not defined"
     ]
    }
   ],
   "source": [
    "from sklearn.model_selection import train_test_split\n",
    "from sklearn.model_selection import cross_val_score\n",
    "def evaluate(pipeline, data, target, cross=True):\n",
    "    X_train, X_test, y_train, y_test = train_test_split(data, target)\n",
    "    if cross:\n",
    "        scores = cross_val_score(pipeline, X_train, y_train) # 没有指定estimator，使用模型默认的estimator，就是R2。\n",
    "        return scores.mean()\n",
    "    else:\n",
    "        return pipeline.fit(X_train, y_train).score(X_test, y_test)\n",
    "\n",
    "evaluate(sc.SiftClassifier(1, ), images, labels, cross=False)"
   ]
  },
  {
   "cell_type": "code",
   "execution_count": null,
   "metadata": {},
   "outputs": [],
   "source": []
  }
 ],
 "metadata": {
  "kernelspec": {
   "display_name": "a3env",
   "language": "python",
   "name": "python3"
  },
  "language_info": {
   "codemirror_mode": {
    "name": "ipython",
    "version": 3
   },
   "file_extension": ".py",
   "mimetype": "text/x-python",
   "name": "python",
   "nbconvert_exporter": "python",
   "pygments_lexer": "ipython3",
   "version": "3.6.2 |Continuum Analytics, Inc.| (default, Jul 20 2017, 13:51:32) \n[GCC 4.4.7 20120313 (Red Hat 4.4.7-1)]"
  },
  "orig_nbformat": 4,
  "vscode": {
   "interpreter": {
    "hash": "3193c0413268bbb59f9d23a695be3cc9adb742d69b2610f1f53504f916cfbbd6"
   }
  }
 },
 "nbformat": 4,
 "nbformat_minor": 2
}
