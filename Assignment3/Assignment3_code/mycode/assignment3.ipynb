{
 "cells": [
  {
   "cell_type": "markdown",
   "metadata": {},
   "source": [
    "# [Scene Recognition with Bag-of-Words](https://www.cc.gatech.edu/~hays/compvision/proj4/)\n",
    "For this project, you will need to report performance for three\n",
    "combinations of features / classifiers. It is suggested you code them in\n",
    "this order, as well:\n",
    "1. Tiny image features and nearest neighbor classifier\n",
    "2. Bag of sift features and nearest neighbor classifier\n",
    "3. Bag of sift features and linear SVM classifier\n",
    "\n",
    "The starter code is initialized to 'placeholder' just so that the starter\n",
    "code does not crash when run unmodified and you can get a preview of how\n",
    "results are presented."
   ]
  },
  {
   "cell_type": "markdown",
   "metadata": {},
   "source": [
    "## Setup"
   ]
  },
  {
   "cell_type": "code",
   "execution_count": 1,
   "metadata": {},
   "outputs": [],
   "source": [
    "# Set up parameters, image paths and category list\n",
    "# %matplotlib notebook\n",
    "# %matplotlib widget \n",
    "# %load_ext autoreload\n",
    "# %autoreload 2\n",
    "\n",
    "import cv2\n",
    "import numpy as np\n",
    "import os.path as osp\n",
    "import pickle\n",
    "from random import shuffle\n",
    "import matplotlib.pyplot as plt\n",
    "from utils import *\n",
    "import student_code_12011404 as sc\n",
    "\n",
    "\n",
    "# This is the list of categories / directories to use. The categories are\n",
    "# somewhat sorted by similarity so that the confusion matrix looks more\n",
    "# structured (indoor and then urban and then rural).\n",
    "categories = ['Kitchen', 'Store', 'Bedroom', 'LivingRoom', 'Office', 'Industrial', 'Suburb',\n",
    "              'InsideCity', 'TallBuilding', 'Street', 'Highway', 'OpenCountry', 'Coast',\n",
    "              'Mountain', 'Forest'];\n",
    "# This list of shortened category names is used later for visualization\n",
    "abbr_categories = ['Kit', 'Sto', 'Bed', 'Liv', 'Off', 'Ind', 'Sub',\n",
    "                   'Cty', 'Bld', 'St', 'HW', 'OC', 'Cst',\n",
    "                   'Mnt', 'For'];\n",
    "\n",
    "# Number of training examples per category to use. Max is 100. For\n",
    "# simplicity, we assume this is the number of test cases per category, as\n",
    "# well.\n",
    "num_train_per_cat = 100\n",
    "\n",
    "# This function returns lists containing the file path for each train\n",
    "# and test image, as well as lists with the label of each train and\n",
    "# test image. By default all four of these lists will have 1500 elements\n",
    "# where each element is a string.\n",
    "data_path = osp.join('..', 'data')\n",
    "train_image_paths, test_image_paths, train_labels, test_labels = get_image_paths(data_path,\n",
    "                                                                                 categories,\n",
    "                                                                                 num_train_per_cat);"
   ]
  },
  {
   "cell_type": "markdown",
   "metadata": {},
   "source": [
    "## Section 1: Tiny Image features with Nearest Neighbor classifier"
   ]
  },
  {
   "cell_type": "markdown",
   "metadata": {},
   "source": [
    "### Section 1a: Represent each image with the Tiny Image feature\n",
    "\n",
    "Each function to construct features should return an N x d numpy array, where N is the number of paths passed to the function and d is the dimensionality of each image representation. See the starter code for each function for more details."
   ]
  },
  {
   "cell_type": "code",
   "execution_count": 2,
   "metadata": {},
   "outputs": [
    {
     "name": "stdout",
     "output_type": "stream",
     "text": [
      "Using the TINY IMAGE representation for images\n"
     ]
    }
   ],
   "source": [
    "print('Using the TINY IMAGE representation for images')\n",
    "\n",
    "train_image_feats = sc.get_tiny_images(train_image_paths)\n",
    "test_image_feats = sc.get_tiny_images(test_image_paths)"
   ]
  },
  {
   "cell_type": "code",
   "execution_count": 4,
   "metadata": {},
   "outputs": [
    {
     "data": {
      "text/plain": [
       "array([[0.40857846, 0.44451594, 0.46559438, 0.4946691 , 0.5211091 ,\n",
       "        0.5268689 , 0.5227022 , 0.535815  , 0.5269914 , 0.5265626 ,\n",
       "        0.53700984, 0.5022059 , 0.49558824, 0.4630821 , 0.40848652,\n",
       "        0.38998163, 0.44224876, 0.45882353, 0.48627454, 0.51550245,\n",
       "        0.52450985, 0.5495098 , 0.9465993 , 0.97205883, 0.9463236 ,\n",
       "        0.5982843 , 0.54365814, 0.5307292 , 0.5178922 , 0.50517774,\n",
       "        0.4484375 , 0.40802696, 0.4508885 , 0.4672488 , 0.4948223 ,\n",
       "        0.52107847, 0.5379902 , 0.5681679 , 0.99607843, 0.99607843,\n",
       "        0.99607843, 0.7285846 , 0.56449145, 0.5389706 , 0.5290748 ,\n",
       "        0.51053923, 0.44920346, 0.45355394, 0.4342831 , 0.27907476,\n",
       "        0.4889706 , 0.5279412 , 0.546875  , 0.5686275 , 0.9971507 ,\n",
       "        0.99607843, 0.9958027 , 0.79712015, 0.5880515 , 0.5575368 ,\n",
       "        0.5294118 , 0.5238665 , 0.4500613 , 0.13814339, 0.1625    ,\n",
       "        0.2874694 , 0.4693015 , 0.5254902 , 0.5568628 , 0.59365815,\n",
       "        0.99525124, 0.9936274 , 0.99534315, 0.8308824 , 0.5794118 ,\n",
       "        0.5671569 , 0.5411765 , 0.52172184, 0.45882353, 0.15631129,\n",
       "        0.20692402, 0.4627451 , 0.33195466, 0.53324145, 0.55842525,\n",
       "        0.6002452 , 0.9897978 , 0.99607843, 0.97622555, 0.8284008 ,\n",
       "        0.5875613 , 0.55842525, 0.5518689 , 0.5181679 , 0.45689338,\n",
       "        0.6051164 , 0.08664216, 0.22205883, 0.36614585, 0.53112745,\n",
       "        0.5648591 , 0.599755  , 0.94181985, 0.9859375 , 0.98795956,\n",
       "        0.86547184, 0.5882047 , 0.5507353 , 0.539614  , 0.5328432 ,\n",
       "        0.45909926, 0.5987746 , 0.3448836 , 0.4594669 , 0.4466912 ,\n",
       "        0.504902  , 0.5539522 , 0.6000001 , 0.41155022, 0.9557598 ,\n",
       "        0.95579046, 0.8218137 , 0.5763174 , 0.5541667 , 0.5414216 ,\n",
       "        0.2617647 , 0.454565  , 0.5717525 , 0.40052086, 0.45539218,\n",
       "        0.48612136, 0.4560662 , 0.5029718 , 0.5377451 , 0.6602941 ,\n",
       "        0.9117954 , 0.8647365 , 0.75291055, 0.5181679 , 0.4945466 ,\n",
       "        0.4703125 , 0.28324142, 0.43507966, 0.49301472, 0.40049022,\n",
       "        0.4387255 , 0.4663297 , 0.32738972, 0.477788  , 0.6900429 ,\n",
       "        0.6687806 , 0.51299024, 0.49580273, 0.6261029 , 0.54172796,\n",
       "        0.37316176, 0.21155025, 0.2953738 , 0.34420952, 0.13241422,\n",
       "        0.3883272 , 0.4296569 , 0.44730395, 0.07754289, 0.4536765 ,\n",
       "        0.23498774, 0.5128983 , 0.35980392, 0.47500002, 0.3216912 ,\n",
       "        0.24286152, 0.04420956, 0.1520527 , 0.0705576 , 0.30784315,\n",
       "        0.5868566 , 0.36026347, 0.4109988 , 0.44715077, 0.09019608,\n",
       "        0.13854167, 0.28195468, 0.3540135 , 0.23507968, 0.41363358,\n",
       "        0.33949143, 0.49375004, 0.12515318, 0.08397672, 0.06556373,\n",
       "        0.30202207, 0.5147059 , 0.32974875, 0.3772059 , 0.40808824,\n",
       "        0.24825367, 0.07493872, 0.3462929 , 0.29457724, 0.30284926,\n",
       "        0.2983456 , 0.27052695, 0.43167895, 0.3223652 , 0.23529413,\n",
       "        0.2934743 , 0.12742035, 0.46234682, 0.13691789, 0.16556373,\n",
       "        0.17919731, 0.16488971, 0.06522672, 0.09025736, 0.17784926,\n",
       "        0.17325369, 0.17340685, 0.16740197, 0.16004902, 0.15520833,\n",
       "        0.23670344, 0.20321691, 0.13768382, 0.23299634, 0.15441178,\n",
       "        0.17083333, 0.17622548, 0.17362133, 0.11568628, 0.18109682,\n",
       "        0.17074142, 0.1819853 , 0.1811581 , 0.1747549 , 0.14558825,\n",
       "        0.14613971, 0.02159926, 0.28569242, 0.23615198, 0.09708946,\n",
       "        0.16568628, 0.17938113, 0.19638482, 0.20389093, 0.20931372,\n",
       "        0.2087929 , 0.1985907 , 0.19188114, 0.18553922, 0.19767158,\n",
       "        0.17907475, 0.2323836 , 0.17132354, 0.0447304 , 0.3782782 ,\n",
       "        0.09126839]], dtype=float32)"
      ]
     },
     "execution_count": 4,
     "metadata": {},
     "output_type": "execute_result"
    }
   ],
   "source": [
    "train_image_feats[0]"
   ]
  },
  {
   "cell_type": "markdown",
   "metadata": {},
   "source": [
    "### Section 1b: Classify each test image by training and using the Nearest Neighbor classifier\n",
    "\n",
    "Each function to classify test features will return an N element list, where N is the number of test cases and each entry is a string indicating the predicted category for each test image. Each entry in 'predicted_categories' must be one of the 15 strings in 'categories', 'train_labels', and 'test_labels'. See the starter code for each function for more details."
   ]
  },
  {
   "cell_type": "code",
   "execution_count": null,
   "metadata": {},
   "outputs": [],
   "source": [
    "print('Using NEAREST NEIGHBOR classifier to predict test set categories')\n",
    "\n",
    "predicted_categories = sc.nearest_neighbor_classify(train_image_feats, train_labels, test_image_feats)"
   ]
  },
  {
   "cell_type": "markdown",
   "metadata": {},
   "source": [
    "### Section 1c: Build a confusion matrix and score the recognition system"
   ]
  },
  {
   "cell_type": "markdown",
   "metadata": {},
   "source": [
    "(You do not need to code anything in this section.)\n",
    "\n",
    "If we wanted to evaluate our recognition method properly we would train\n",
    "and test on many random splits of the data. You are not required to do so\n",
    "for this project.\n",
    "\n",
    "This function will create a confusion matrix and various image\n",
    "thumbnails each time it is called. View the confusion matrix to help interpret\n",
    "your classifier performance. Where is it making mistakes? Are the\n",
    "confusions reasonable?\n",
    "\n",
    "Interpreting your performance with 100 training examples per category:\n",
    "- accuracy  =   0 -> Your code is broken (probably not the classifier's fault! A classifier would have to be amazing to perform this badly).\n",
    "- accuracy ~= .07 -> Your performance is chance. Something is broken or you ran the starter code unchanged.\n",
    "- accuracy ~= .20 -> Rough performance with tiny images and nearest neighbor classifier. Performance goes up a few percentage points with K-NN instead of 1-NN.\n",
    "- accuracy ~= .20 -> Rough performance with tiny images and linear SVM classifier. The linear classifiers will have a lot of trouble trying to separate the classes and may be unstable (e.g. everything classified to one category)\n",
    "- accuracy ~= .50 -> Rough performance with bag of SIFT and nearest neighbor classifier. Can reach .60 with K-NN and different distance metrics.\n",
    "- accuracy ~= .60 -> You've gotten things roughly correct with bag of SIFT and a linear SVM classifier.\n",
    "- accuracy >= .70 -> You've also tuned your parameters well. E.g. number of clusters, SVM regularization, number of patches sampled when building vocabulary, size and step for dense SIFT features.\n",
    "- accuracy >= .80 -> You've added in spatial information somehow or you've added additional, complementary image features. This represents state of the art in Lazebnik et al 2006.\n",
    "- accuracy >= .85 -> You've done extremely well. This is the state of the art in the 2010 SUN database paper from fusing many  features. Don't trust this number unless you actually measure many random splits.\n",
    "- accuracy >= .90 -> You used modern deep features trained on much larger image databases.\n",
    "- accuracy >= .96 -> You can beat a human at this task. This isn't a realistic number. Some accuracy calculation is broken or your classifier is cheating and seeing the test labels."
   ]
  },
  {
   "cell_type": "code",
   "execution_count": null,
   "metadata": {},
   "outputs": [],
   "source": [
    "show_results(train_image_paths, test_image_paths, train_labels, test_labels, categories, abbr_categories,\n",
    "             predicted_categories)"
   ]
  },
  {
   "cell_type": "markdown",
   "metadata": {},
   "source": [
    "## Section 2: Bag of SIFT features with Nearest Neighbor classifier"
   ]
  },
  {
   "cell_type": "markdown",
   "metadata": {},
   "source": [
    "### Section 2a: Represent each image with the Bag of SIFT feature\n",
    "\n",
    "To create a new vocabulary, make sure `vocab_filename` is different than the old vocabulary, or delete the old one."
   ]
  },
  {
   "cell_type": "code",
   "execution_count": null,
   "metadata": {},
   "outputs": [],
   "source": [
    "print('Using the BAG-OF-SIFT representation for images')\n",
    "\n",
    "vocab_filename = 'vocab.pkl'\n",
    "if not osp.isfile(vocab_filename):\n",
    "    # Construct the vocabulary\n",
    "    print('No existing visual word vocabulary found. Computing one from training images')\n",
    "    vocab_size = 200  # Larger values will work better (to a point) but be slower to compute\n",
    "    vocab = sc.build_vocabulary(train_image_paths, vocab_size)\n",
    "    with open(vocab_filename, 'wb') as f:\n",
    "        pickle.dump(vocab, f)\n",
    "        print('{:s} saved'.format(vocab_filename))\n",
    "\n",
    "train_image_feats = sc.get_bags_of_sifts(train_image_paths, vocab_filename)\n",
    "test_image_feats = sc.get_bags_of_sifts(test_image_paths, vocab_filename)"
   ]
  },
  {
   "cell_type": "markdown",
   "metadata": {},
   "source": [
    "### Section 2b: Classify each test image by training and using the Nearest Neighbor classifier"
   ]
  },
  {
   "cell_type": "code",
   "execution_count": null,
   "metadata": {},
   "outputs": [],
   "source": [
    "print('Using NEAREST NEIGHBOR classifier to predict test set categories')\n",
    "predicted_categories = sc.nearest_neighbor_classify(train_image_feats, train_labels, test_image_feats)"
   ]
  },
  {
   "cell_type": "markdown",
   "metadata": {},
   "source": [
    "### Section 2c: Build a confusion matrix and score the recognition system"
   ]
  },
  {
   "cell_type": "code",
   "execution_count": null,
   "metadata": {},
   "outputs": [],
   "source": [
    "show_results(train_image_paths, test_image_paths, train_labels, test_labels, categories, abbr_categories,\n",
    "             predicted_categories)"
   ]
  },
  {
   "cell_type": "markdown",
   "metadata": {},
   "source": [
    "## Section 3: Bag of SIFT features and SVM classifier\n",
    "We will reuse the bag of SIFT features from Section 2a.\n",
    "\n",
    "The difference is that this time we will classify them with a support vector machine (SVM)."
   ]
  },
  {
   "cell_type": "markdown",
   "metadata": {},
   "source": [
    "### Section 3a: Classify each test image by training and using the SVM classifiers"
   ]
  },
  {
   "cell_type": "code",
   "execution_count": null,
   "metadata": {},
   "outputs": [],
   "source": [
    "print('Using SVM classifier to predict test set categories')\n",
    "predicted_categories = sc.svm_classify(train_image_feats, train_labels, test_image_feats)"
   ]
  },
  {
   "cell_type": "markdown",
   "metadata": {},
   "source": [
    "### Section 3b: Build a confusion matrix and score the recognition system"
   ]
  },
  {
   "cell_type": "code",
   "execution_count": null,
   "metadata": {},
   "outputs": [],
   "source": [
    "show_results(train_image_paths, test_image_paths, train_labels, test_labels, categories, abbr_categories,\n",
    "             predicted_categories)"
   ]
  }
 ],
 "metadata": {
  "kernelspec": {
   "display_name": "a3env",
   "language": "python",
   "name": "python3"
  },
  "language_info": {
   "codemirror_mode": {
    "name": "ipython",
    "version": 3
   },
   "file_extension": ".py",
   "mimetype": "text/x-python",
   "name": "python",
   "nbconvert_exporter": "python",
   "pygments_lexer": "ipython3",
   "version": "3.6.2"
  },
  "vscode": {
   "interpreter": {
    "hash": "3193c0413268bbb59f9d23a695be3cc9adb742d69b2610f1f53504f916cfbbd6"
   }
  },
  "widgets": {
   "state": {},
   "version": "1.1.2"
  }
 },
 "nbformat": 4,
 "nbformat_minor": 2
}
